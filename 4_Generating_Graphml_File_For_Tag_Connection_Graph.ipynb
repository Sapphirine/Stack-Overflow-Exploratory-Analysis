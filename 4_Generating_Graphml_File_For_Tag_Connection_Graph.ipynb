{
 "cells": [
  {
   "cell_type": "code",
   "execution_count": 1,
   "metadata": {},
   "outputs": [],
   "source": [
    "import csv\n",
    "import sys\n",
    "import networkx as nx"
   ]
  },
  {
   "cell_type": "code",
   "execution_count": 2,
   "metadata": {},
   "outputs": [],
   "source": [
    "def oecsv2graphml(input_path, output_path=\"tagconnection.graphml\",\n",
    "                  threshold=0):\n",
    "    with open(input_path, \"r\") as f:\n",
    "        data = list(csv.reader(f))[1:]\n",
    "    data = list(map(lambda x: [x[0], x[1], float(x[2]), int(float(x[3])), int(float(x[4])), int(float(x[5]))], data))\n",
    "    nodes = dict([(x[0], x[3]) for x in data]\n",
    "                 + [(x[1], x[4]) for x in data])\n",
    "\n",
    "    G = nx.Graph()\n",
    "    for k, v in nodes.items():\n",
    "        G.add_node(k, weight=v)\n",
    "\n",
    "    data_filtered = list(filter(lambda x: x[2] >= threshold, data))\n",
    "    for x in data_filtered:\n",
    "        G.add_edge(x[0], x[1], weight=x[2])\n",
    "\n",
    "    nx.write_graphml(G, output_path)\n",
    "    print (\"Saved!\\nNodes: %d\\tEdges: %d out of %d\" % (len(nodes), len(data_filtered), len(data)))\n",
    "    #print (\"Saved!\\nNodes: %d\\t Edges: %d out of %d\" % (len(nodes), len(list(data_filtered)), len(list(data))))\n",
    "    print(nodes)"
   ]
  },
  {
   "cell_type": "code",
   "execution_count": 3,
   "metadata": {},
   "outputs": [
    {
     "name": "stdout",
     "output_type": "stream",
     "text": [
      "Saved!\n",
      "Nodes: 256\tEdges: 21335 out of 21335\n",
      "{'.htaccess': 5338, 'google-maps': 4775, 'actionscript-3': 4039, 'facebook': 7598, 'vba': 6892, 'd3.js': 2272, 'apache': 6658, 'git': 7626, 'hibernate': 5874, 'jsp': 4312, 'web-services': 5317, 'android-intent': 2352, 'excel': 10384, 'opencv': 3366, 'node.js': 14525, 'asp.net-mvc-3': 3838, 'spring': 9935, 'silverlight': 2678, 'redirect': 2794, 'memory': 2361, 'xslt': 2591, 'scala': 5676, 'bash': 7484, 'asp.net-mvc-4': 3778, 'wpf': 12365, 'shell': 4991, 'flash': 3523, 'osx': 7243, 'session': 3374, 'numpy': 2935, 'xml': 14763, 'html5': 9564, 'google-chrome': 4336, 'asp.net-mvc': 14284, 'oop': 3839, 'loops': 4121, 'tomcat': 3061, 'date': 4021, 'sql-server-2008': 4900, 'cordova': 4854, 'matlab': 6495, 'sql-server': 18160, 'templates': 3265, 'android-fragments': 2921, 'hadoop': 3099, 'unit-testing': 4437, 'sockets': 4421, 'ruby-on-rails': 25789, 'servlets': 2656, 'selenium': 3373, 'ruby-on-rails-3': 5528, 'pandas': 3011, 'ruby-on-rails-4': 3279, 'xaml': 4155, 'windows': 10142, 'arrays': 19799, 'http': 3809, 'tsql': 4158, 'iphone': 21539, 'class': 4485, 'security': 3896, 'image': 7441, 'android-layout': 4053, 'mongodb': 7084, 'entity-framework': 6074, 'winapi': 2742, 'jpa': 2768, 'visual-studio': 6149, 'swing': 6467, 'gcc': 2422, 'jquery-mobile': 2273, 'algorithm': 6837, 'rest': 4916, 'linux': 13395, 'list': 5769, 'c': 23238, 'select': 2551, 'internet-explorer': 3486, 'asp.net': 29970, 'objective-c': 26922, 'api': 4903, 'performance': 6584, 'c++': 47591, 'c++11': 3205, 'cocoa': 3559, 'ruby': 17013, 'if-statement': 2765, 'wcf': 4480, 'uitableview': 4900, 'visual-studio-2010': 4642, 'curl': 2606, 'design-patterns': 2278, 'oracle': 7645, 'forms': 7588, 'css': 42308, 'postgresql': 5941, 'ssl': 2686, 'sql': 35782, 'ios': 47009, 'generics': 2853, 'swift': 11832, 'jsf': 2969, 'python': 64601, 'url': 2905, 'audio': 2409, 'eclipse': 9895, 'dom': 2565, 'visual-c++': 2257, 'csv': 3827, 'animation': 2852, 'pointers': 3237, 'reactjs': 2561, 'join': 2463, 'listview': 3804, 'ipad': 3463, 'maven': 4675, 'sorting': 4080, 'canvas': 2347, 'r': 15701, 'python-2.7': 5763, 'math': 2579, 'database': 11860, 'xcode': 10633, 'firefox': 2928, 'cocoa-touch': 3441, 'batch-file': 3290, 'search': 2479, 'datetime': 3391, 'android': 90659, 'function': 5253, 'matrix': 2122, 'css3': 5752, 'opengl': 2778, 'mysql': 42464, 'json': 17669, 'multithreading': 9006, 'delphi': 3749, 'gridview': 2242, 'jquery': 78542, 'html': 58976, 'authentication': 2875, 'spring-mvc': 3776, 'iis': 2466, 'qt': 5384, 'python-3.x': 4222, 'model-view-controller': 2082, 'android-studio': 3154, '.net': 24059, 'magento': 3619, 'object': 3186, 'mobile': 2122, 'powershell': 3854, 'ubuntu': 3129, 'codeigniter': 4892, 'java': 115212, 'heroku': 2165, 'wordpress': 9913, 'linq': 6005, 'for-loop': 2753, 'user-interface': 3733, 'regex': 15349, 'c#': 101186, 'debugging': 3347, 'button': 2567, 'recursion': 2265, 'serialization': 2071, 'parsing': 3737, 'sqlite': 5234, 'ajax': 15629, 'caching': 2560, 'php': 98808, 'razor': 2303, 'haskell': 3043, 'stored-procedures': 2342, 'vb.net': 10286, 'flex': 2430, 'jquery-ui': 3521, 'twitter-bootstrap': 7161, 'inheritance': 2620, 'amazon-web-services': 3190, 'assembly': 2300, 'angularjs': 20345, 'extjs': 2087, 'laravel': 4896, 'video': 2396, 'azure': 3489, 'variables': 3261, 'django': 12818, 'java-ee': 2634, 'string': 10427, 'events': 2729, 'arraylist': 1964, 'express': 2706, 'file': 4876, 'post': 2529, 'pdf': 2953, 'validation': 4515, 'table': 2408, 'svn': 2361, 'winforms': 6944, 'ms-access': 3100, 'google-app-engine': 3663, 'perl': 5206, 'javascript': 124155, 'exception': 2650, 'asp.net-web-api': 1973, 'facebook-graph-api': 2881, 'android-activity': 2260, 'dictionary': 2825, 'mod-rewrite': 2687, 'c#-4.0': 2384, 'symfony2': 4228, 'unix': 3155, 'iframe': 2301, 'grails': 2558, 'networking': 2336, 'zend-framework': 2041, 'cakephp': 2733, 'meteor': 2423, 'optimization': 2124, 'activerecord': 2232, 'image-processing': 2345, 'cookies': 2251, 'excel-vba': 5203, 'elasticsearch': 2131, 'sharepoint': 2163, 'xpath': 2172, 'email': 4070, 'twitter': 2041, 'logging': 2279, 'asynchronous': 2341, 'jdbc': 2124, 'nginx': 2110, 'memory-management': 2044, 'visual-studio-2012': 2250, 'svg': 2107, 'angular2': 2259, 'core-data': 2175, 'layout': 2027, 'soap': 2030, 'testing': 2471, 'encryption': 2155, 'checkbox': 2030, 'web': 1958, 'backbone.js': 2004, 'ember.js': 2033, 'unity3d': 2000, 'boost': 2037, 'github': 2159, 'matplotlib': 1982, 'windows-phone-7': 2026, 'apache-spark': 1976, 'google-maps-api-3': 1998, 'multidimensional-array': 1958, 'file-upload': 1951, 'vim': 2004}\n"
     ]
    }
   ],
   "source": [
    "#generating graphml file from sortedco_matrix and save it as \"tagconnection.graphml\"\n",
    "oecsv2graphml('sortedco_matrix.csv')"
   ]
  },
  {
   "cell_type": "code",
   "execution_count": null,
   "metadata": {},
   "outputs": [],
   "source": []
  }
 ],
 "metadata": {
  "kernelspec": {
   "display_name": "Python 3",
   "language": "python",
   "name": "python3"
  },
  "language_info": {
   "codemirror_mode": {
    "name": "ipython",
    "version": 3
   },
   "file_extension": ".py",
   "mimetype": "text/x-python",
   "name": "python",
   "nbconvert_exporter": "python",
   "pygments_lexer": "ipython3",
   "version": "3.7.0"
  }
 },
 "nbformat": 4,
 "nbformat_minor": 2
}
