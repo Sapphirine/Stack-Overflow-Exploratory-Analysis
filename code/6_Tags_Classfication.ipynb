{
 "cells": [
  {
   "cell_type": "code",
   "execution_count": 40,
   "metadata": {},
   "outputs": [],
   "source": [
    "import re\n",
    "#import matplotlib\n",
    "import numpy as np\n",
    "import pandas as pd\n",
    "import nltk\n",
    "import matplotlib.pyplot as plt\n",
    "#nltk.download(\"stopwords\")\n",
    "from nltk.corpus import stopwords\n",
    "from sklearn.model_selection import train_test_split\n",
    "from time import time\n",
    "from sklearn.feature_extraction.text import TfidfVectorizer\n",
    "from sklearn.linear_model import RidgeClassifier\n",
    "from sklearn.metrics import classification_report\n",
    "from sklearn.svm import LinearSVC\n",
    "from sklearn.linear_model import SGDClassifier\n",
    "from sklearn.neural_network import MLPClassifier\n",
    "from sklearn.naive_bayes import MultinomialNB\n",
    "from sklearn.linear_model import LogisticRegression\n",
    "from sklearn.metrics import f1_score"
   ]
  },
  {
   "cell_type": "code",
   "execution_count": 5,
   "metadata": {},
   "outputs": [],
   "source": [
    "q=pd.read_csv('Questions.csv', encoding='latin-1')\n",
    "t=pd.read_csv('Tags.csv')"
   ]
  },
  {
   "cell_type": "code",
   "execution_count": 6,
   "metadata": {},
   "outputs": [
    {
     "data": {
      "text/html": [
       "<div>\n",
       "<style scoped>\n",
       "    .dataframe tbody tr th:only-of-type {\n",
       "        vertical-align: middle;\n",
       "    }\n",
       "\n",
       "    .dataframe tbody tr th {\n",
       "        vertical-align: top;\n",
       "    }\n",
       "\n",
       "    .dataframe thead th {\n",
       "        text-align: right;\n",
       "    }\n",
       "</style>\n",
       "<table border=\"1\" class=\"dataframe\">\n",
       "  <thead>\n",
       "    <tr style=\"text-align: right;\">\n",
       "      <th></th>\n",
       "      <th>Id</th>\n",
       "      <th>Body</th>\n",
       "    </tr>\n",
       "  </thead>\n",
       "  <tbody>\n",
       "    <tr>\n",
       "      <th>0</th>\n",
       "      <td>80</td>\n",
       "      <td>&lt;p&gt;I've written a database generation script i...</td>\n",
       "    </tr>\n",
       "    <tr>\n",
       "      <th>1</th>\n",
       "      <td>90</td>\n",
       "      <td>&lt;p&gt;Are there any really good tutorials explain...</td>\n",
       "    </tr>\n",
       "    <tr>\n",
       "      <th>2</th>\n",
       "      <td>120</td>\n",
       "      <td>&lt;p&gt;Has anyone got experience creating &lt;strong&gt;...</td>\n",
       "    </tr>\n",
       "  </tbody>\n",
       "</table>\n",
       "</div>"
      ],
      "text/plain": [
       "    Id                                               Body\n",
       "0   80  <p>I've written a database generation script i...\n",
       "1   90  <p>Are there any really good tutorials explain...\n",
       "2  120  <p>Has anyone got experience creating <strong>..."
      ]
     },
     "execution_count": 6,
     "metadata": {},
     "output_type": "execute_result"
    }
   ],
   "source": [
    "#drop unnecessary columns\n",
    "q=q.drop(q.columns[[1,2,3,4,5]], axis=1)\n",
    "q.head(3)"
   ]
  },
  {
   "cell_type": "code",
   "execution_count": 7,
   "metadata": {},
   "outputs": [],
   "source": [
    "# function of text cleaning\n",
    "def clean_text(text):\n",
    "    #erasing code syntax\n",
    "    text = re.sub('<pre>.*?</pre>', '', text, flags=re.DOTALL)\n",
    "    text = re.sub('<[^>]+>', '', text, flags=re.DOTALL)\n",
    "    #eliminate duplicate spaces\n",
    "    text = re.sub('\\s+', ' ', text)\n",
    "    text = text.strip(' ')\n",
    "    #lower case\n",
    "    text = text.lower()\n",
    "    #replacing abbreviation for stopword removing\n",
    "    text = re.sub(r\"i'm\", \"i am \", text)\n",
    "    text = re.sub(r\"\\'s\", \" \", text)\n",
    "    text = re.sub(r\"\\'re\", \" are \", text)\n",
    "    text = re.sub(r\"what's\", \"what is \", text)\n",
    "    text = re.sub(r\"n't\", \" not \", text)\n",
    "    text = re.sub(r\"can't\", \"can not \", text)\n",
    "    text = re.sub(r\"\\'ll\", \" will \", text)\n",
    "    text = re.sub(r\"\\'d\", \" would \", text)\n",
    "    text = re.sub(r\"\\'ve\", \" have \", text)\n",
    "    text = re.sub(r\"\\'scuse\", \" excuse \", text)\n",
    "    return text"
   ]
  },
  {
   "cell_type": "code",
   "execution_count": 8,
   "metadata": {},
   "outputs": [],
   "source": [
    "q['Text'] = q['Body'].apply(clean_text)"
   ]
  },
  {
   "cell_type": "code",
   "execution_count": 22,
   "metadata": {},
   "outputs": [
    {
     "data": {
      "text/html": [
       "<div>\n",
       "<style scoped>\n",
       "    .dataframe tbody tr th:only-of-type {\n",
       "        vertical-align: middle;\n",
       "    }\n",
       "\n",
       "    .dataframe tbody tr th {\n",
       "        vertical-align: top;\n",
       "    }\n",
       "\n",
       "    .dataframe thead th {\n",
       "        text-align: right;\n",
       "    }\n",
       "</style>\n",
       "<table border=\"1\" class=\"dataframe\">\n",
       "  <thead>\n",
       "    <tr style=\"text-align: right;\">\n",
       "      <th></th>\n",
       "      <th>Id</th>\n",
       "      <th>Body</th>\n",
       "      <th>Text</th>\n",
       "    </tr>\n",
       "  </thead>\n",
       "  <tbody>\n",
       "    <tr>\n",
       "      <th>1</th>\n",
       "      <td>90</td>\n",
       "      <td>&lt;p&gt;Are there any really good tutorials explaining &lt;a href=\"http://svnbook.red-bean.com/en/1.8/svn.branchmerge.html\" rel=\"nofollow\"&gt;branching and merging&lt;/a&gt; with Apache Subversion? &lt;/p&gt;\\n\\n&lt;p&gt;All the better if it's specific to TortoiseSVN client.&lt;/p&gt;\\n</td>\n",
       "      <td>are there any really good tutorials explaining branching and merging with apache subversion? all the better if it  specific to tortoisesvn client.</td>\n",
       "    </tr>\n",
       "    <tr>\n",
       "      <th>2</th>\n",
       "      <td>120</td>\n",
       "      <td>&lt;p&gt;Has anyone got experience creating &lt;strong&gt;SQL-based ASP.NET&lt;/strong&gt; site-map providers?&lt;/p&gt;\\n\\n&lt;p&gt;I've got the default XML file &lt;code&gt;web.sitemap&lt;/code&gt; working properly with my Menu and &lt;strong&gt;SiteMapPath&lt;/strong&gt; controls, but I'll need a way for the users of my site to create and modify pages dynamically.&lt;/p&gt;\\n\\n&lt;p&gt;I need to tie page viewing permissions into the standard &lt;code&gt;ASP.NET&lt;/code&gt; membership system as well.&lt;/p&gt;\\n</td>\n",
       "      <td>has anyone got experience creating sql-based asp.net site-map providers? i have  got the default xml file web.sitemap working properly with my menu and sitemappath controls, but i will  need a way for the users of my site to create and modify pages dynamically. i need to tie page viewing permissions into the standard asp.net membership system as well.</td>\n",
       "    </tr>\n",
       "  </tbody>\n",
       "</table>\n",
       "</div>"
      ],
      "text/plain": [
       "    Id  \\\n",
       "1  90    \n",
       "2  120   \n",
       "\n",
       "                                                                                                                                                                                                                                                                                                                                                                                                                                                   Body  \\\n",
       "1  <p>Are there any really good tutorials explaining <a href=\"http://svnbook.red-bean.com/en/1.8/svn.branchmerge.html\" rel=\"nofollow\">branching and merging</a> with Apache Subversion? </p>\\n\\n<p>All the better if it's specific to TortoiseSVN client.</p>\\n                                                                                                                                                                                           \n",
       "2  <p>Has anyone got experience creating <strong>SQL-based ASP.NET</strong> site-map providers?</p>\\n\\n<p>I've got the default XML file <code>web.sitemap</code> working properly with my Menu and <strong>SiteMapPath</strong> controls, but I'll need a way for the users of my site to create and modify pages dynamically.</p>\\n\\n<p>I need to tie page viewing permissions into the standard <code>ASP.NET</code> membership system as well.</p>\\n   \n",
       "\n",
       "                                                                                                                                                                                                                                                                                                                                                                Text  \n",
       "1  are there any really good tutorials explaining branching and merging with apache subversion? all the better if it  specific to tortoisesvn client.                                                                                                                                                                                                                 \n",
       "2  has anyone got experience creating sql-based asp.net site-map providers? i have  got the default xml file web.sitemap working properly with my menu and sitemappath controls, but i will  need a way for the users of my site to create and modify pages dynamically. i need to tie page viewing permissions into the standard asp.net membership system as well.  "
      ]
     },
     "execution_count": 22,
     "metadata": {},
     "output_type": "execute_result"
    }
   ],
   "source": [
    "# examples of cleaned texts\n",
    "pd.set_option('display.max_colwidth', -1)\n",
    "q[1:3]"
   ]
  },
  {
   "cell_type": "code",
   "execution_count": 23,
   "metadata": {},
   "outputs": [],
   "source": [
    "# back to default setting\n",
    "pd.reset_option('display.max_colwidth', 0)"
   ]
  },
  {
   "cell_type": "code",
   "execution_count": 27,
   "metadata": {},
   "outputs": [
    {
     "data": {
      "text/html": [
       "<div>\n",
       "<style scoped>\n",
       "    .dataframe tbody tr th:only-of-type {\n",
       "        vertical-align: middle;\n",
       "    }\n",
       "\n",
       "    .dataframe tbody tr th {\n",
       "        vertical-align: top;\n",
       "    }\n",
       "\n",
       "    .dataframe thead th {\n",
       "        text-align: right;\n",
       "    }\n",
       "</style>\n",
       "<table border=\"1\" class=\"dataframe\">\n",
       "  <thead>\n",
       "    <tr style=\"text-align: right;\">\n",
       "      <th></th>\n",
       "      <th>Id</th>\n",
       "      <th>Tag</th>\n",
       "      <th>Text</th>\n",
       "    </tr>\n",
       "  </thead>\n",
       "  <tbody>\n",
       "    <tr>\n",
       "      <th>14</th>\n",
       "      <td>260</td>\n",
       "      <td>c#</td>\n",
       "      <td>i have a little game written in c#. it uses a ...</td>\n",
       "    </tr>\n",
       "    <tr>\n",
       "      <th>18</th>\n",
       "      <td>330</td>\n",
       "      <td>c++</td>\n",
       "      <td>i am working on a collection of classes used f...</td>\n",
       "    </tr>\n",
       "    <tr>\n",
       "      <th>28</th>\n",
       "      <td>650</td>\n",
       "      <td>c#</td>\n",
       "      <td>i would like the version property of my applic...</td>\n",
       "    </tr>\n",
       "  </tbody>\n",
       "</table>\n",
       "</div>"
      ],
      "text/plain": [
       "     Id  Tag                                               Text\n",
       "14  260   c#  i have a little game written in c#. it uses a ...\n",
       "18  330  c++  i am working on a collection of classes used f...\n",
       "28  650   c#  i would like the version property of my applic..."
      ]
     },
     "execution_count": 27,
     "metadata": {},
     "output_type": "execute_result"
    }
   ],
   "source": [
    "#merge the questions with tags according the ids\n",
    "tq = t.merge(q, how = 'inner', on = ['Id'])\n",
    "#drop the original text\n",
    "tq=tq.drop(tq.columns[[2]], axis=1)\n",
    "#selecting rows of the top 10 tags\n",
    "tq = tq[(tq.Tag == 'javascript') | (tq.Tag == 'java') | (tq.Tag == 'c#') | (tq.Tag =='php') | (tq.Tag =='android') | (tq.Tag == 'jquery') | (tq.Tag == 'python') | (tq.Tag == 'html') | (tq.Tag == 'c++') | (tq.Tag == 'ios')]\n",
    "tq.head(3)"
   ]
  },
  {
   "cell_type": "code",
   "execution_count": 28,
   "metadata": {},
   "outputs": [],
   "source": [
    "tags=['javascript', 'java', 'c#', 'php', 'android', 'jquery', 'python', 'html', 'c++', 'ios']"
   ]
  },
  {
   "cell_type": "code",
   "execution_count": 29,
   "metadata": {},
   "outputs": [],
   "source": [
    "#Separate the dataset into training and testing set into 0.8/0.2.\n",
    "text_train, text_test, tag_train, tag_test = train_test_split(tq['Text'], tq['Tag'], random_state=1, test_size=0.2, shuffle=True)"
   ]
  },
  {
   "cell_type": "code",
   "execution_count": 30,
   "metadata": {},
   "outputs": [
    {
     "name": "stdout",
     "output_type": "stream",
     "text": [
      "Extracting features from the training data\n",
      "Vectorizing and TF-IDF done in 40.985812s\n",
      "trainging_samples: 661391, n_features: 562034\n"
     ]
    }
   ],
   "source": [
    "print(\"Extracting features from the training data\")\n",
    "t0=time()\n",
    "vectorizer = TfidfVectorizer(sublinear_tf=True, max_df=0.5,stop_words='english')\n",
    "tfidf_train = vectorizer.fit_transform(text_train)\n",
    "duration = time() - t0\n",
    "print(\"Vectorizing and TF-IDF done in %fs\" % (duration))\n",
    "print(\"trainging_samples: %d, n_features: %d\" % tfidf_train.shape)"
   ]
  },
  {
   "cell_type": "code",
   "execution_count": 31,
   "metadata": {},
   "outputs": [
    {
     "name": "stdout",
     "output_type": "stream",
     "text": [
      "Extracting features from the testing data using the same vectorizer\n",
      "done in 10.968276s \n",
      "testing_samples: 165348, n_features: 562034\n"
     ]
    }
   ],
   "source": [
    "print(\"Extracting features from the testing data using the same vectorizer\")\n",
    "t0 = time()\n",
    "tfidf_test = vectorizer.transform(text_test)\n",
    "duration = time() - t0\n",
    "print(\"done in %fs \" % (duration))\n",
    "print(\"testing_samples: %d, n_features: %d\" % tfidf_test.shape)"
   ]
  },
  {
   "cell_type": "code",
   "execution_count": 36,
   "metadata": {},
   "outputs": [
    {
     "name": "stdout",
     "output_type": "stream",
     "text": [
      "Training done in 142.353462s \n",
      "Prediction done in 0.211680s \n",
      "Average F1-score0 \n",
      "             precision    recall  f1-score   support\n",
      "\n",
      "    android       0.76      0.81      0.78     18400\n",
      "         c#       0.74      0.77      0.76     20099\n",
      "        c++       0.80      0.70      0.75      9543\n",
      "       html       0.48      0.36      0.41     11954\n",
      "        ios       0.89      0.82      0.85      9251\n",
      "       java       0.71      0.74      0.72     23062\n",
      " javascript       0.52      0.55      0.53     24920\n",
      "     jquery       0.45      0.39      0.42     15690\n",
      "        php       0.68      0.79      0.73     19625\n",
      "     python       0.85      0.80      0.82     12804\n",
      "\n",
      "avg / total       0.67      0.67      0.67    165348\n",
      "\n"
     ]
    }
   ],
   "source": [
    "#Ridge Classifier\n",
    "t0=time()\n",
    "model_RC = RidgeClassifier(tol=0.01, solver=\"sag\")\n",
    "model_RC.fit(tfidf_train, tag_train)\n",
    "t1=time()\n",
    "predicted_RC = model_RC.predict(tfidf_test)\n",
    "t2 = time()\n",
    "RCtrain_time=t1-t0\n",
    "RCtest_time=t2-t1\n",
    "RCscore = f1_score(tag_test, predicted_RC,average='weighted')\n",
    "RCscorelist = f1_score(tag_test, predicted_RC,average=None)\n",
    "print(\"Training done in %fs \" % (t1-t0))\n",
    "print(\"Prediction done in %fs \" % (t2-t1))\n",
    "print(\"Average F1-score%d \" % (RCscore))\n",
    "print(classification_report(tag_test, predicted_RC))"
   ]
  },
  {
   "cell_type": "code",
   "execution_count": 37,
   "metadata": {},
   "outputs": [
    {
     "name": "stdout",
     "output_type": "stream",
     "text": [
      "Training done in 377.898348s \n",
      "Prediction done in 0.104385s \n",
      "Average F1-score0 \n",
      "             precision    recall  f1-score   support\n",
      "\n",
      "    android       0.70      0.84      0.76     18400\n",
      "         c#       0.64      0.75      0.69     20099\n",
      "        c++       0.69      0.66      0.67      9543\n",
      "       html       0.55      0.25      0.34     11954\n",
      "        ios       0.77      0.81      0.79      9251\n",
      "       java       0.73      0.68      0.70     23062\n",
      " javascript       0.57      0.57      0.57     24920\n",
      "     jquery       0.50      0.41      0.45     15690\n",
      "        php       0.63      0.82      0.72     19625\n",
      "     python       0.86      0.73      0.79     12804\n",
      "\n",
      "avg / total       0.66      0.66      0.65    165348\n",
      "\n"
     ]
    }
   ],
   "source": [
    "#Stochastic Gradient Descent Classifier\n",
    "t0=time()\n",
    "model_SGDC = SGDClassifier(alpha=0.0001, max_iter=100,penalty=\"elasticnet\")\n",
    "#model_SGDC = SGDClassifier(alpha=.0001, n_iter=50,penalty=\"elasticnet\")\n",
    "model_SGDC.fit(tfidf_train, tag_train)\n",
    "t1=time()\n",
    "predicted_SGDC = model_SGDC.predict(tfidf_test)\n",
    "t2 = time()\n",
    "SGDCtrain_time=t1-t0\n",
    "SGDCtest_time=t2-t1\n",
    "SGDCscore = f1_score(tag_test, predicted_SGDC,average='weighted')\n",
    "SGDCscorelist = f1_score(tag_test, predicted_SGDC,average=None)\n",
    "print(\"Training done in %fs \" % (t1-t0))\n",
    "print(\"Prediction done in %fs \" % (t2-t1))\n",
    "print(\"Average F1-score%d \" % (SGDCscore))\n",
    "print(classification_report(tag_test, predicted_SGDC))"
   ]
  },
  {
   "cell_type": "code",
   "execution_count": 38,
   "metadata": {},
   "outputs": [
    {
     "name": "stdout",
     "output_type": "stream",
     "text": [
      "Training done in 2.945560s \n",
      "Prediction done in 0.109897s \n",
      "Average F1-score 0.611853 \n",
      "             precision    recall  f1-score   support\n",
      "\n",
      "    android       0.73      0.74      0.74     18400\n",
      "         c#       0.77      0.68      0.72     20099\n",
      "        c++       0.79      0.64      0.70      9543\n",
      "       html       0.44      0.31      0.37     11954\n",
      "        ios       0.93      0.71      0.80      9251\n",
      "       java       0.64      0.70      0.67     23062\n",
      " javascript       0.42      0.56      0.48     24920\n",
      "     jquery       0.35      0.27      0.30     15690\n",
      "        php       0.60      0.73      0.66     19625\n",
      "     python       0.79      0.70      0.74     12804\n",
      "\n",
      "avg / total       0.62      0.61      0.61    165348\n",
      "\n"
     ]
    }
   ],
   "source": [
    "#Mulitinomial Naive Bayes Classifier\n",
    "t0=time()\n",
    "model_MNB = MultinomialNB(alpha=0.05)\n",
    "model_MNB.fit(tfidf_train, tag_train)\n",
    "t1=time()\n",
    "predicted_MNB = model_MNB.predict(tfidf_test)\n",
    "t2 = time()\n",
    "MNBtrain_time=t1-t0\n",
    "MNBtest_time=t2-t1\n",
    "MNBscore = f1_score(tag_test, predicted_MNB,average='weighted')\n",
    "MNBscorelist=f1_score(tag_test, predicted_MNB,average=None)\n",
    "print(\"Training done in %fs \" % (t1-t0))\n",
    "print(\"Prediction done in %fs \" % (t2-t1))\n",
    "print(\"Average F1-score %f \" % (MNBscore))\n",
    "print(classification_report(tag_test, predicted_MNB))"
   ]
  },
  {
   "cell_type": "code",
   "execution_count": 41,
   "metadata": {},
   "outputs": [
    {
     "name": "stdout",
     "output_type": "stream",
     "text": [
      "Training done in 171.057110s \n",
      "Prediction done in 0.190120s \n",
      "Average F1-score0 \n",
      "             precision    recall  f1-score   support\n",
      "\n",
      "    android       0.78      0.81      0.79     18400\n",
      "         c#       0.73      0.78      0.76     20099\n",
      "        c++       0.79      0.72      0.75      9543\n",
      "       html       0.52      0.40      0.46     11954\n",
      "        ios       0.88      0.82      0.85      9251\n",
      "       java       0.73      0.74      0.74     23062\n",
      " javascript       0.56      0.59      0.57     24920\n",
      "     jquery       0.50      0.43      0.47     15690\n",
      "        php       0.71      0.80      0.75     19625\n",
      "     python       0.84      0.81      0.83     12804\n",
      "\n",
      "avg / total       0.69      0.69      0.69    165348\n",
      "\n"
     ]
    }
   ],
   "source": [
    "#Logistic Regression Classifier\n",
    "t0=time()\n",
    "model_LR = LogisticRegression(solver='sag')\n",
    "model_LR.fit(tfidf_train, tag_train)\n",
    "t1=time()\n",
    "predicted_LR = model_LR.predict(tfidf_test)\n",
    "t2 = time()\n",
    "LRtrain_time=t1-t0\n",
    "LRtest_time=t2-t1\n",
    "LRscore = f1_score(tag_test, predicted_LR,average='weighted')\n",
    "LRscorelist=f1_score(tag_test, predicted_LR,average=None)\n",
    "print(\"Training done in %fs \" % (t1-t0))\n",
    "print(\"Prediction done in %fs \" % (t2-t1))\n",
    "print(\"Average F1-score%d \" % (LRscore))\n",
    "print(classification_report(tag_test, predicted_LR))"
   ]
  },
  {
   "cell_type": "code",
   "execution_count": 42,
   "metadata": {},
   "outputs": [
    {
     "name": "stdout",
     "output_type": "stream",
     "text": [
      "Training done in 85.853485s \n",
      "Prediction done in 0.110952s \n",
      "Average F1-score0 \n",
      "             precision    recall  f1-score   support\n",
      "\n",
      "    android       0.75      0.79      0.77     18400\n",
      "         c#       0.75      0.77      0.76     20099\n",
      "        c++       0.77      0.74      0.75      9543\n",
      "       html       0.45      0.36      0.40     11954\n",
      "        ios       0.86      0.83      0.85      9251\n",
      "       java       0.72      0.72      0.72     23062\n",
      " javascript       0.51      0.52      0.51     24920\n",
      "     jquery       0.41      0.37      0.39     15690\n",
      "        php       0.69      0.77      0.73     19625\n",
      "     python       0.82      0.82      0.82     12804\n",
      "\n",
      "avg / total       0.66      0.67      0.66    165348\n",
      "\n"
     ]
    }
   ],
   "source": [
    "#Linear Support Vector Classifier\n",
    "t0=time()\n",
    "model_SVC = LinearSVC()\n",
    "model_SVC.fit(tfidf_train, tag_train)\n",
    "t1=time()\n",
    "predicted_SVC = model_SVC.predict(tfidf_test)\n",
    "t2 = time()\n",
    "SVCtrain_time=t1-t0\n",
    "SVCtest_time=t2-t1\n",
    "SVCscore = f1_score(tag_test, predicted_SVC,average='weighted')\n",
    "SVCscorelist=f1_score(tag_test, predicted_SVC,average=None)\n",
    "print(\"Training done in %fs \" % (t1-t0))\n",
    "print(\"Prediction done in %fs \" % (t2-t1))\n",
    "print(\"Average F1-score%d \" % (SVCscore))\n",
    "print(classification_report(tag_test, predicted_SVC))"
   ]
  },
  {
   "cell_type": "code",
   "execution_count": 43,
   "metadata": {},
   "outputs": [
    {
     "name": "stdout",
     "output_type": "stream",
     "text": [
      "Training done in 365.583890s \n",
      "Prediction done in 0.506188s \n",
      "Average F1-score0 \n",
      "             precision    recall  f1-score   support\n",
      "\n",
      "    android       0.78      0.73      0.76     18400\n",
      "         c#       0.67      0.72      0.70     20099\n",
      "        c++       0.75      0.62      0.68      9543\n",
      "       html       0.54      0.30      0.38     11954\n",
      "        ios       0.81      0.77      0.79      9251\n",
      "       java       0.65      0.71      0.68     23062\n",
      " javascript       0.48      0.65      0.56     24920\n",
      "     jquery       0.48      0.30      0.37     15690\n",
      "        php       0.66      0.73      0.70     19625\n",
      "     python       0.77      0.77      0.77     12804\n",
      "\n",
      "avg / total       0.64      0.64      0.64    165348\n",
      "\n"
     ]
    }
   ],
   "source": [
    "#Multilayer Perceptron Classifier\n",
    "t0=time()\n",
    "model_MLPC = MLPClassifier(solver='lbfgs', hidden_layer_sizes=(15, 8), random_state=1)\n",
    "model_MLPC.fit(tfidf_train, tag_train)\n",
    "t1=time()\n",
    "predicted_MLPC = model_MLPC.predict(tfidf_test)\n",
    "t2 = time()\n",
    "MLPCtrain_time=t1-t0\n",
    "MLPCtest_time=t2-t1\n",
    "MLPCscore = f1_score(tag_test, predicted_MLPC,average='weighted')\n",
    "MLPCscorelist=f1_score(tag_test, predicted_MLPC,average=None)\n",
    "print(\"Training done in %fs \" % (t1-t0))\n",
    "print(\"Prediction done in %fs \" % (t2-t1))\n",
    "print(\"Average F1-score%d \" % (MLPCscore))\n",
    "print(classification_report(tag_test, predicted_MLPC))"
   ]
  },
  {
   "cell_type": "code",
   "execution_count": 44,
   "metadata": {},
   "outputs": [
    {
     "data": {
      "image/png": "[encoded data removed]",
      "text/plain": [
       "<Figure size 1080x432 with 1 Axes>"
      ]
     },
     "metadata": {
      "needs_background": "light"
     },
     "output_type": "display_data"
    }
   ],
   "source": [
    "xx=['android','c#','c++','html','ios','java','javascript','jquery','php', 'python']\n",
    "df=pd.DataFrame({'x': xx, 'MNB': MNBscorelist, 'SVC':SVCscorelist , 'LR': LRscorelist , 'RC': RCscorelist,'SGDC': SGDCscorelist, 'MLPC': MLPCscorelist})\n",
    "# multiple line plot\n",
    "plt.figure(num=None, figsize=(15, 6))\n",
    "plt.plot( 'x', 'MNB', data=df, marker='', color='blue', linewidth=2, label=\"NB\")\n",
    "plt.plot( 'x', 'SVC', data=df, marker='', color='red', linewidth=2, label=\"SVC\")\n",
    "plt.plot( 'x', 'LR', data=df, marker='', color='green', linewidth=2, label=\"LR\")\n",
    "plt.plot( 'x', 'RC', data=df, marker='', color='yellow', linewidth=2, label=\"Ridge\")\n",
    "plt.plot( 'x', 'SGDC', data=df, marker='', color='gray', linewidth=2, label=\"SGD\")\n",
    "plt.plot( 'x', 'MLPC', data=df, marker='', color='purple', linewidth=2, label=\"MLP\")\n",
    "plt.grid()\n",
    "plt.legend(fontsize=18)\n",
    "plt.ylim((0,1))\n",
    "plt.title(\"Question Tag Prediction\\n\", fontsize=18)\n",
    "plt.ylabel('weight-avg f1_score', fontsize=18)\n",
    "plt.xlabel('Tag', fontsize=18)\n",
    "plt.tick_params(labelsize=16)"
   ]
  },
  {
   "cell_type": "code",
   "execution_count": null,
   "metadata": {},
   "outputs": [],
   "source": []
  }
 ],
 "metadata": {
  "kernelspec": {
   "display_name": "Python 3",
   "language": "python",
   "name": "python3"
  },
  "language_info": {
   "codemirror_mode": {
    "name": "ipython",
    "version": 3
   },
   "file_extension": ".py",
   "mimetype": "text/x-python",
   "name": "python",
   "nbconvert_exporter": "python",
   "pygments_lexer": "ipython3",
   "version": "3.7.0"
  }
 },
 "nbformat": 4,
 "nbformat_minor": 2
}
