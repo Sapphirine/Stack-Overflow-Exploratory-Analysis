{
 "cells": [
  {
   "cell_type": "code",
   "execution_count": 1,
   "metadata": {},
   "outputs": [],
   "source": [
    "import re\n",
    "import numpy as np\n",
    "import pandas as pd\n",
    "import nltk\n",
    "nltk.download(\"stopwords\")\n",
    "from nltk.corpus import stopwords\n",
    "from sklearn.model_selection import train_test_split\n",
    "from sklearn.pipeline import Pipeline\n",
    "from sklearn.feature_extraction.text import TfidfVectorizer\n",
    "from sklearn.multiclass import OneVsRestClassifier\n",
    "from sklearn.naive_bayes import MultinomialNB\n",
    "from sklearn.svm import LinearSVC\n",
    "from sklearn.linear_model import LogisticRegression\n",
    "from sklearn.metrics import accuracy_score\n",
    "import matplotlib.pyplot as plt"
   ]
  },
  {
   "cell_type": "code",
   "execution_count": 2,
   "metadata": {},
   "outputs": [],
   "source": [
    "####Preprocessing####"
   ]
  },
  {
   "cell_type": "code",
   "execution_count": 4,
   "metadata": {},
   "outputs": [],
   "source": [
    "q=pd.read_csv('Questions.csv', encoding='latin-1')\n",
    "at=pd.read_csv('tagappendforquestion.csv', encoding='latin-1')\n",
    "qat=pd.concat([q, at], axis=1)\n",
    "qat10 = qat[qat.sumtag != 0]"
   ]
  },
  {
   "cell_type": "code",
   "execution_count": 5,
   "metadata": {},
   "outputs": [],
   "source": [
    "# function of text cleaning\n",
    "def clean_text(text):\n",
    "    #erasing code syntax\n",
    "    text = re.sub('<pre>.*?</pre>', '', text, flags=re.DOTALL)\n",
    "    text = re.sub('<[^>]+>', '', text, flags=re.DOTALL)\n",
    "    #eliminate duplicate spaces\n",
    "    text = re.sub('\\s+', ' ', text)\n",
    "    text = text.strip(' ')\n",
    "    #lower case\n",
    "    text = text.lower()\n",
    "    #replacing abbreviation for stopword removing\n",
    "    text = re.sub(r\"i'm\", \"i am \", text)\n",
    "    text = re.sub(r\"\\'s\", \" \", text)\n",
    "    text = re.sub(r\"\\'re\", \" are \", text)\n",
    "    text = re.sub(r\"what's\", \"what is \", text)\n",
    "    text = re.sub(r\"n't\", \" not \", text)\n",
    "    text = re.sub(r\"can't\", \"can not \", text)\n",
    "    text = re.sub(r\"\\'ll\", \" will \", text)\n",
    "    text = re.sub(r\"\\'d\", \" would \", text)\n",
    "    text = re.sub(r\"\\'ve\", \" have \", text)\n",
    "    text = re.sub(r\"\\'scuse\", \" excuse \", text)\n",
    "    return text"
   ]
  },
  {
   "cell_type": "code",
   "execution_count": 6,
   "metadata": {},
   "outputs": [
    {
     "name": "stderr",
     "output_type": "stream",
     "text": [
      "/anaconda3/lib/python3.7/site-packages/ipykernel_launcher.py:1: SettingWithCopyWarning: \n",
      "A value is trying to be set on a copy of a slice from a DataFrame.\n",
      "Try using .loc[row_indexer,col_indexer] = value instead\n",
      "\n",
      "See the caveats in the documentation: http://pandas.pydata.org/pandas-docs/stable/indexing.html#indexing-view-versus-copy\n",
      "  \"\"\"Entry point for launching an IPython kernel.\n"
     ]
    }
   ],
   "source": [
    "qat10['CleanedText'] = qat10['Body'].apply(clean_text)"
   ]
  },
  {
   "cell_type": "code",
   "execution_count": 7,
   "metadata": {},
   "outputs": [],
   "source": [
    "#Separate the dataset into training and testing set into 0.8/0.2.\n",
    "train, test = train_test_split(qat10, random_state=1, test_size=0.2, shuffle=True)"
   ]
  },
  {
   "cell_type": "code",
   "execution_count": 8,
   "metadata": {},
   "outputs": [
    {
     "name": "stdout",
     "output_type": "stream",
     "text": [
      "(565068,)\n",
      "(141268,)\n"
     ]
    }
   ],
   "source": [
    "X_train = train.CleanedText\n",
    "X_test = test.CleanedText\n",
    "#set stop_words from nltk\n",
    "stop_words = set(stopwords.words('english'))\n",
    "categories=['javascript','java','c#','php','android','jquery','pyhton','html','c++','ios']\n",
    "print(X_train.shape)\n",
    "print(X_test.shape)"
   ]
  },
  {
   "cell_type": "code",
   "execution_count": 9,
   "metadata": {},
   "outputs": [],
   "source": [
    "###pipeline for Vectorizer, TF-IDF, OnevsRest Classifier"
   ]
  },
  {
   "cell_type": "code",
   "execution_count": 10,
   "metadata": {},
   "outputs": [],
   "source": [
    "#Naive Bayes Classifier\n",
    "NaiveBayes = Pipeline([\n",
    "                ('tfidf', TfidfVectorizer(stop_words=stop_words)),\n",
    "                ('clf', OneVsRestClassifier(MultinomialNB(fit_prior=True, class_prior=None))),\n",
    "                #('clf', OneVsRestClassifier(MultinomialNB())),\n",
    "            ])"
   ]
  },
  {
   "cell_type": "code",
   "execution_count": 11,
   "metadata": {},
   "outputs": [],
   "source": [
    "#Linear Support Vector Classifier\n",
    "LinearSupportVector = Pipeline([\n",
    "                ('tfidf', TfidfVectorizer(stop_words=stop_words)),\n",
    "                ('clf', OneVsRestClassifier(LinearSVC(), n_jobs=1)),\n",
    "                #('clf', OneVsRestClassifier(LinearSVC())),\n",
    "            ])"
   ]
  },
  {
   "cell_type": "code",
   "execution_count": 12,
   "metadata": {},
   "outputs": [],
   "source": [
    "#Logistic Regression Classifier\n",
    "LogisticRegression = Pipeline([\n",
    "                ('tfidf', TfidfVectorizer(stop_words=stop_words)),\n",
    "                ('clf', OneVsRestClassifier(LogisticRegression(solver='sag'), n_jobs=1)),\n",
    "                #('clf', OneVsRestClassifier(LogisticRegression(solver='sag'))),\n",
    "            ])"
   ]
  },
  {
   "cell_type": "code",
   "execution_count": 13,
   "metadata": {},
   "outputs": [],
   "source": [
    "####Classification results####"
   ]
  },
  {
   "cell_type": "code",
   "execution_count": 14,
   "metadata": {},
   "outputs": [
    {
     "name": "stdout",
     "output_type": "stream",
     "text": [
      "Naive Bayes Classifier : \n",
      "Training for javascript\n",
      "Predicting for javascript\n",
      "Prediction accuracy : 0.8291969872865759\n",
      "Training for java\n",
      "Predicting for java\n",
      "Prediction accuracy : 0.8547654104255741\n",
      "Training for c#\n",
      "Predicting for c#\n",
      "Prediction accuracy : 0.8661338732055384\n",
      "Training for php\n",
      "Predicting for php\n",
      "Prediction accuracy : 0.866381629243707\n",
      "Training for android\n",
      "Predicting for android\n",
      "Prediction accuracy : 0.8963247161423678\n",
      "Training for jquery\n",
      "Predicting for jquery\n",
      "Prediction accuracy : 0.8899326103576182\n",
      "Training for pyhton\n",
      "Predicting for pyhton\n",
      "Prediction accuracy : 0.9138516861568083\n",
      "Training for html\n",
      "Predicting for html\n",
      "Prediction accuracy : 0.9171857745561628\n",
      "Training for c++\n",
      "Predicting for c++\n",
      "Prediction accuracy : 0.9336296967466092\n",
      "Training for ios\n",
      "Predicting for ios\n",
      "Prediction accuracy : 0.9385494237902426\n"
     ]
    }
   ],
   "source": [
    "#Naive Bayes Classifier\n",
    "NBpred=[0]*10\n",
    "i=0\n",
    "print('Naive Bayes Classifier : ')\n",
    "for category in categories:\n",
    "    print('Training for {}'.format(category))\n",
    "    NaiveBayes.fit(X_train, train[category])\n",
    "    print('Predicting for {}'.format(category))\n",
    "    prediction = NaiveBayes.predict(X_test)\n",
    "    NBpred[i]=accuracy_score(test[category], prediction)\n",
    "    i=i+1\n",
    "    print('Prediction accuracy : {}'.format(accuracy_score(test[category], prediction)))"
   ]
  },
  {
   "cell_type": "code",
   "execution_count": 15,
   "metadata": {},
   "outputs": [
    {
     "name": "stdout",
     "output_type": "stream",
     "text": [
      "Linear Support Vector Classifier : \n",
      "Training for javascript\n",
      "Predicting for javascript\n",
      "Prediction accuracy : 0.9051023586374833\n",
      "Training for java\n",
      "Predicting for java\n",
      "Prediction accuracy : 0.9263598267123482\n",
      "Training for c#\n",
      "Predicting for c#\n",
      "Prediction accuracy : 0.9364682730696265\n",
      "Training for php\n",
      "Predicting for php\n",
      "Prediction accuracy : 0.952544100574794\n",
      "Training for android\n",
      "Predicting for android\n",
      "Prediction accuracy : 0.9715930005379846\n",
      "Training for jquery\n",
      "Predicting for jquery\n",
      "Prediction accuracy : 0.9419967720927599\n",
      "Training for pyhton\n",
      "Predicting for pyhton\n",
      "Prediction accuracy : 0.9722937961888043\n",
      "Training for html\n",
      "Predicting for html\n",
      "Prediction accuracy : 0.9373318798312428\n",
      "Training for c++\n",
      "Predicting for c++\n",
      "Prediction accuracy : 0.9691366763881417\n",
      "Training for ios\n",
      "Predicting for ios\n",
      "Prediction accuracy : 0.9828623609026814\n"
     ]
    }
   ],
   "source": [
    "#Linear Support Vector Classifier\n",
    "SVCpred=[0]*10\n",
    "i=0\n",
    "print('Linear Support Vector Classifier : ')\n",
    "for category in categories:\n",
    "    print('Training for {}'.format(category))\n",
    "    LinearSupportVector.fit(X_train, train[category])\n",
    "    print('Predicting for {}'.format(category))\n",
    "    prediction = LinearSupportVector.predict(X_test)\n",
    "    SVCpred[i]=accuracy_score(test[category], prediction)\n",
    "    i=i+1\n",
    "    print('Prediction accuracy : {}'.format(accuracy_score(test[category], prediction)))"
   ]
  },
  {
   "cell_type": "code",
   "execution_count": 16,
   "metadata": {},
   "outputs": [
    {
     "name": "stdout",
     "output_type": "stream",
     "text": [
      "Logistic Regression Classifier : \n",
      "Training for javascript\n",
      "Predicting for javascript\n",
      "Prediction accuracy : 0.9041042557408614\n",
      "Training for java\n",
      "Predicting for java\n",
      "Prediction accuracy : 0.9234504629498542\n",
      "Training for c#\n",
      "Predicting for c#\n",
      "Prediction accuracy : 0.9307344904720106\n",
      "Training for php\n",
      "Predicting for php\n",
      "Prediction accuracy : 0.9507319421241894\n",
      "Training for android\n",
      "Predicting for android\n",
      "Prediction accuracy : 0.9676430614151825\n",
      "Training for jquery\n",
      "Predicting for jquery\n",
      "Prediction accuracy : 0.941536653736161\n",
      "Training for pyhton\n",
      "Predicting for pyhton\n",
      "Prediction accuracy : 0.9686907155194382\n",
      "Training for html\n",
      "Predicting for html\n",
      "Prediction accuracy : 0.9370841237930742\n",
      "Training for c++\n",
      "Predicting for c++\n",
      "Prediction accuracy : 0.9663901237364442\n",
      "Training for ios\n",
      "Predicting for ios\n",
      "Prediction accuracy : 0.978466460911176\n"
     ]
    }
   ],
   "source": [
    "#Logistic Regression Classifier\n",
    "LRpred=[0]*10\n",
    "i=0\n",
    "print('Logistic Regression Classifier : ')\n",
    "for category in categories:\n",
    "    print('Training for {}'.format(category))\n",
    "    LogisticRegression.fit(X_train, train[category])\n",
    "    print('Predicting for {}'.format(category))\n",
    "    prediction = LogisticRegression.predict(X_test)\n",
    "    LRpred[i]=accuracy_score(test[category], prediction)\n",
    "    i=i+1\n",
    "    print('Prediction accuracy : {}'.format(accuracy_score(test[category], prediction)))"
   ]
  },
  {
   "cell_type": "code",
   "execution_count": 17,
   "metadata": {},
   "outputs": [
    {
     "data": {
      "image/png": "[encoded data removed]",
      "text/plain": [
       "<Figure size 1080x432 with 1 Axes>"
      ]
     },
     "metadata": {
      "needs_background": "light"
     },
     "output_type": "display_data"
    }
   ],
   "source": [
    "xx=['javascript','java','c#','php','android','jquery','pyhton','html','c++', 'ios']\n",
    "df=pd.DataFrame({'x': xx, 'acc1': NBpred, 'acc2': SVCpred, 'acc3': LRpred})\n",
    "# multiple line plot\n",
    "plt.figure(num=None, figsize=(15, 6))\n",
    "plt.plot( 'x', 'acc1', data=df, marker='', color='blue', linewidth=2, label=\"Naive Bayes Classifier\")\n",
    "plt.plot( 'x', 'acc2', data=df, marker='', color='red', linewidth=2, label=\"Support Vector Classifier\")\n",
    "plt.plot( 'x', 'acc3', data=df, marker='', color='green', linewidth=2, linestyle='dashed', label=\"Logistic Regression Classifier\")\n",
    "plt.grid()\n",
    "plt.legend(fontsize=18)\n",
    "plt.ylim((0.5,1))\n",
    "plt.title(\"Question Tag Prediction\\n\", fontsize=18)\n",
    "plt.ylabel('Accuracy', fontsize=18)\n",
    "plt.xlabel('Tag', fontsize=18)\n",
    "plt.tick_params(labelsize=16)"
   ]
  },
  {
   "cell_type": "code",
   "execution_count": null,
   "metadata": {},
   "outputs": [],
   "source": []
  }
 ],
 "metadata": {
  "kernelspec": {
   "display_name": "Python 3",
   "language": "python",
   "name": "python3"
  },
  "language_info": {
   "codemirror_mode": {
    "name": "ipython",
    "version": 3
   },
   "file_extension": ".py",
   "mimetype": "text/x-python",
   "name": "python",
   "nbconvert_exporter": "python",
   "pygments_lexer": "ipython3",
   "version": "3.7.0"
  }
 },
 "nbformat": 4,
 "nbformat_minor": 2
}
